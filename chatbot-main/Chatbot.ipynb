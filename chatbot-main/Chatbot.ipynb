{
  "nbformat": 4,
  "nbformat_minor": 0,
  "metadata": {
    "colab": {
      "provenance": []
    },
    "kernelspec": {
      "name": "python3",
      "display_name": "Python 3"
    },
    "language_info": {
      "name": "python"
    }
  },
  "cells": [
    {
      "cell_type": "code",
      "execution_count": 10,
      "metadata": {
        "id": "vPba1usnxQ9k",
        "colab": {
          "base_uri": "https://localhost:8080/"
        },
        "outputId": "e2a03967-a106-4a6c-df13-0cb766d46a0b"
      },
      "outputs": [
        {
          "output_type": "stream",
          "name": "stdout",
          "text": [
            "[nltk_data] Downloading package punkt to /root/nltk_data...\n",
            "[nltk_data]   Package punkt is already up-to-date!\n",
            "85 patterns\n",
            "27 tags: ['book-recommendation', 'career-advice', 'career-advice-arts', 'career-advice-business', 'career-advice-computer-science', 'career-advice-education', 'career-advice-engineering', 'career-advice-environmental', 'career-advice-math', 'career-advice-medicine', 'career-advice-science', 'career-advice-sports', 'career-advice-technology', 'career-advice-undecided', 'career-advice-writing', 'career-assessment', 'career-change', 'career-education-options', 'career-goals', 'course-recommendation', 'exam-tips', 'goodbye', 'greeting', 'homework', 'programming-help', 'study-tips', 'thanks']\n",
            "176 unique stemmed words: ['#', \"'d\", \"'m\", \"'s\", '(', ')', '5', 'a', 'about', 'academ', 'achiev', 'advanc', 'advic', 'align', 'all', 'an', 'and', 'ani', 'answer', 'anyon', 'are', 'art', 'artist', 'aspir', 'assess', 'assign', 'assist', 'avail', 'best', 'book', 'busi', 'business-rel', 'by', 'bye', 'can', 'care', 'career', 'chang', 'choic', 'choos', 'chosen', 'code', 'comput', 'concept', 'conserv', 'consid', 'cours', 'day', 'debug', 'decid', 'desir', 'differ', 'do', 'educ', 'effect', 'engin', 'enjoy', 'enthusiast', 'entrepreneurship', 'environ', 'environment', 'exam', 'excit', 'exist', 'explor', 'fascin', 'favorit', 'field', 'find', 'for', 'from', 'gadget', 'genre/subject', 'goal', 'good', 'goodby', 'guidanc', 'habit', 'have', 'hello', 'help', 'hey', 'hi', 'homework', 'how', 'i', 'identifi', 'improv', 'in', 'inclin', 'individu', 'interest', 'is', 'know', 'later', 'like', 'look', 'lot', 'love', 'make', 'math', 'mathemat', 'me', 'medic', 'medicin', 'multipl', 'must-read', 'my', 'nervou', 'new', 'not', 'of', 'offer', 'on', 'opportun', 'option', 'passion', 'path', 'pathway', 'plan', 'prepar', 'program', 'provid', 'pursu', 'question', 'reach', 'read', 'recommend', 'resourc', 'right', 'scienc', 'see', 'set', 'should', 'skill', 'some', 'specif', 'sport', 'sports-rel', 'step', 'strategi', 'strong', 'struggl', 'stuck', 'studi', 'subject', 'subject/interest', 'suggest', 'suitabl', 'sure', 'switch', 'take', 'teach', 'tech', 'tech-rel', 'techniqu', 'technolog', 'test', 'thank', 'that', 'the', 'there', 'thi', 'tip', 'to', 'tool', 'topic', 'transit', 'upcom', 'want', 'what', 'which', 'with', 'write', 'writer', 'you']\n",
            "176 27\n",
            "Epoch [100/1000], Loss: 0.3406\n",
            "Epoch [200/1000], Loss: 0.0309\n",
            "Epoch [300/1000], Loss: 0.0116\n",
            "Epoch [400/1000], Loss: 0.0011\n",
            "Epoch [500/1000], Loss: 0.0019\n",
            "Epoch [600/1000], Loss: 0.0007\n",
            "Epoch [700/1000], Loss: 0.0004\n",
            "Epoch [800/1000], Loss: 0.0002\n",
            "Epoch [900/1000], Loss: 0.0001\n",
            "Epoch [1000/1000], Loss: 0.0000\n",
            "final loss: 0.0000\n",
            "training complete. file saved to data.pth\n"
          ]
        }
      ],
      "source": [
        "!python train.py"
      ]
    },
    {
      "cell_type": "code",
      "source": [
        "!python chat.py"
      ],
      "metadata": {
        "colab": {
          "base_uri": "https://localhost:8080/"
        },
        "id": "4PHmU8heF9Q7",
        "outputId": "369dfb20-69d3-47d6-d3cf-93709c6f8f32"
      },
      "execution_count": 14,
      "outputs": [
        {
          "output_type": "stream",
          "name": "stdout",
          "text": [
            "Let's chat! (type 'Exit' to exit)\n",
            "You: Hello\n",
            "Bot: Hello, thanks for visiting\n",
            "You: Math is my favorite subject. Any career suggestions?\n",
            "Bot: A strong interest in mathematics opens doors to careers in mathematician, statistician, actuary, data scientist, operations research analyst, cryptographer, economist, math teacher/professor, quantitative analyst (quant), research scientist.\n",
            "You: color of sky?\n",
            "Bot: I do not understand...\n",
            "You: love gadgets and tech. Any career advice?\n",
            "Bot: Technology offers exciting career paths in areas such as software development, IT management, cybersecurity, artificial intelligence, and network engineering.\n",
            "You:  How can I identify the best career path for my interests and skills?\n",
            "Bot: You should give the test.You can determine your strongest subject by identifying the one in which you excel the most\n",
            "You: Any tips for preparing for exams?\n",
            "Bot: Don't worry, it's normal to feel nervous.Here are some tips: Organize study materials, create a study schedule, practice with mock exams, focus on weak areas, stay hydrated, get adequate sleep, and manage test anxiety with deep breaths and positive thinking.\n",
            "You: Can you help me with career advice?\n",
            "Bot: Yeah, Sure I will tell. Tell me more about yourself. What subject do you like or what are your interests?.\n",
            "You: How can I set and achieve career goals?\n",
            "Bot: Setting and achieving career goals involves creating a clear plan, setting milestones, and staying adaptable to opportunities.\n",
            "You: Do you have any study tips to improve my study habits?\n",
            "Bot: Improving your study habits is important. Try Consistent study routine, minimize distractions, use study aids, take breaks, and practice time management..\n",
            "You: Exit\n"
          ]
        }
      ]
    }
  ]
}